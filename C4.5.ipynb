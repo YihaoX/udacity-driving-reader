{
 "cells": [
  {
   "cell_type": "code",
   "execution_count": 7,
   "metadata": {},
   "outputs": [
    {
     "name": "stdout",
     "output_type": "stream",
     "text": [
      "              precision    recall  f1-score   support\n",
      "\n",
      "         0.0       0.80      1.00      0.89         4\n",
      "         1.0       1.00      0.88      0.93         8\n",
      "\n",
      "    accuracy                           0.92        12\n",
      "   macro avg       0.90      0.94      0.91        12\n",
      "weighted avg       0.93      0.92      0.92        12\n",
      "\n"
     ]
    }
   ],
   "source": [
    "import xlrd\n",
    "import numpy as np\n",
    "import pandas as pd\n",
    "from sklearn.preprocessing import MinMaxScaler\n",
    "from sklearn.model_selection import train_test_split\n",
    "# 分类器，可以自由更换分类器的类型\n",
    "from sklearn.tree import DecisionTreeClassifier\n",
    "from sklearn.linear_model import RidgeClassifier\n",
    "from sklearn.svm import SVC\n",
    "from sklearn.metrics import classification_report\n",
    "\n",
    "data1_path = r'C:\\Users\\54946\\Desktop\\ST\\data1.xlsx'\n",
    "data2_path = r'C:\\Users\\54946\\Desktop\\n-st\\data2.xlsx'\n",
    "\n",
    "# 构建困难企业数据，取前30张表\n",
    "positive_x = np.zeros((30, 18*5))  # 输入X，30家公司，18个变量，每个变量5年数据\n",
    "positive_y = np.ones(30)  # 输出Y\n",
    "workbook1 = xlrd.open_workbook(data1_path)\n",
    "worksheets1 = workbook1.sheet_names()\n",
    "for i, worksheet in enumerate(worksheets1[:30]):\n",
    "    df = pd.read_excel(data1_path, sheet_name=worksheet, header=None)\n",
    "    # 26~35，37， 67-73行，共18行，每行6个数据，包括公司名称\n",
    "    one_data = pd.concat([df.iloc[25:35], df.iloc[36:37], df.iloc[66:73]], axis=0) #axis=0表示在水平方向(row)进行连接\n",
    "    positive_x[i] = np.array(one_data.iloc[:, 1:], dtype='float').reshape(1, -1)   #reshape(1, -1代表构建一行\n",
    "# 构建正常企业数据，取前30张表.一个样本有90个特征值，所以是1x90的矩阵\n",
    "\n",
    "negative_x = np.zeros((30, 18*5))  # 输入X，30家公司，18个变量，每个变量5年数据\n",
    "negative_y = np.zeros(30)  # 输出Y\n",
    "workbook2 = xlrd.open_workbook(data2_path)\n",
    "worksheets2 = workbook2.sheet_names()\n",
    "for i, worksheet in enumerate(worksheets2[:30]):\n",
    "    df = pd.read_excel(data2_path, sheet_name=worksheet, header=None)\n",
    "    # 26~35，37， 67-73行，共18行，每行6个数据，包括公司名称\n",
    "    one_data = pd.concat([df.iloc[25:35], df.iloc[36:37], df.iloc[66:73]], axis=0)\n",
    "    negative_x[i] = np.array(one_data.iloc[:, 1:], dtype='float').reshape(1, -1)\n",
    "\n",
    "X, y = np.concatenate([positive_x, negative_x]), np.concatenate([positive_y, negative_y])  # 拼接正负样本数据为(60, 90) 60x90\n",
    "train_x, test_x, train_y, test_y = train_test_split(X, y, test_size=0.2)  # 取20%的数据作为测试集，其余作为训练集\n",
    "m = MinMaxScaler()  # 最大值最小值归一化，减小量纲带来的影响\n",
    "train_x = m.fit_transform(train_x)\n",
    "test_x = m.transform(test_x)\n",
    "\n",
    "classifier = DecisionTreeClassifier()  # 经测试，决策树最好\n",
    "# classifier = RidgeClassifier()\n",
    "# classifier = SVC()\n",
    "classifier.fit(train_x, train_y)\n",
    "\n",
    "print(classification_report(test_y, classifier.predict(test_x)))"
   ]
  },
  {
   "cell_type": "code",
   "execution_count": 6,
   "metadata": {},
   "outputs": [
    {
     "name": "stdout",
     "output_type": "stream",
     "text": [
      "              precision    recall  f1-score   support\n",
      "\n",
      "         0.0       0.78      0.88      0.82         8\n",
      "         1.0       0.67      0.50      0.57         4\n",
      "\n",
      "    accuracy                           0.75        12\n",
      "   macro avg       0.72      0.69      0.70        12\n",
      "weighted avg       0.74      0.75      0.74        12\n",
      "\n"
     ]
    },
    {
     "name": "stderr",
     "output_type": "stream",
     "text": [
      "C:\\Users\\54946\\Anaconda3\\lib\\site-packages\\sklearn\\svm\\base.py:193: FutureWarning: The default value of gamma will change from 'auto' to 'scale' in version 0.22 to account better for unscaled features. Set gamma explicitly to 'auto' or 'scale' to avoid this warning.\n",
      "  \"avoid this warning.\", FutureWarning)\n"
     ]
    }
   ],
   "source": [
    "import xlrd\n",
    "import numpy as np\n",
    "import pandas as pd\n",
    "from sklearn.preprocessing import MinMaxScaler\n",
    "from sklearn.model_selection import train_test_split\n",
    "# 分类器，可以自由更换分类器的类型\n",
    "from sklearn.tree import DecisionTreeClassifier\n",
    "from sklearn.linear_model import RidgeClassifier\n",
    "from sklearn.svm import SVC\n",
    "from sklearn.metrics import classification_report\n",
    "\n",
    "data1_path = r'C:\\Users\\54946\\Desktop\\ST\\data1.xlsx'\n",
    "data2_path = r'C:\\Users\\54946\\Desktop\\n-st\\data2.xlsx'\n",
    "\n",
    "# 构建困难企业数据，取前30张表\n",
    "positive_x = np.zeros((30, 18*5))  # 输入X，30家公司，18个变量，每个变量5年数据\n",
    "positive_y = np.ones(30)  # 输出Y\n",
    "workbook1 = xlrd.open_workbook(data1_path)\n",
    "worksheets1 = workbook1.sheet_names()\n",
    "for i, worksheet in enumerate(worksheets1[:30]):\n",
    "    df = pd.read_excel(data1_path, sheet_name=worksheet, header=None)\n",
    "    # 26~35，37， 67-73行，共18行，每行6个数据，包括公司名称\n",
    "    one_data = pd.concat([df.iloc[25:35], df.iloc[36:37], df.iloc[66:73]], axis=0) #axis=0表示在水平方向(row)进行连接\n",
    "    positive_x[i] = np.array(one_data.iloc[:, 1:], dtype='float').reshape(1, -1)   #reshape(1, -1代表构建一行\n",
    "# 构建正常企业数据，取前30张表.一个样本有90个特征值，所以是1x90的矩阵\n",
    "\n",
    "negative_x = np.zeros((30, 18*5))  # 输入X，30家公司，18个变量，每个变量5年数据\n",
    "negative_y = np.zeros(30)  # 输出Y\n",
    "workbook2 = xlrd.open_workbook(data2_path)\n",
    "worksheets2 = workbook2.sheet_names()\n",
    "for i, worksheet in enumerate(worksheets2[:30]):\n",
    "    df = pd.read_excel(data2_path, sheet_name=worksheet, header=None)\n",
    "    # 26~35，37， 67-73行，共18行，每行6个数据，包括公司名称\n",
    "    one_data = pd.concat([df.iloc[25:35], df.iloc[36:37], df.iloc[66:73]], axis=0)\n",
    "    negative_x[i] = np.array(one_data.iloc[:, 1:], dtype='float').reshape(1, -1)\n",
    "\n",
    "X, y = np.concatenate([positive_x, negative_x]), np.concatenate([positive_y, negative_y])  # 拼接正负样本数据为(60, 90) 60x90\n",
    "train_x, test_x, train_y, test_y = train_test_split(X, y, test_size=0.2)  # 取20%的数据作为测试集，其余作为训练集\n",
    "m = MinMaxScaler()  # 最大值最小值归一化，减小量纲带来的影响\n",
    "train_x = m.fit_transform(train_x)\n",
    "test_x = m.transform(test_x)\n",
    "\n",
    "# classifier = DecisionTreeClassifier()  # 经测试，决策树最好\n",
    "# classifier = RidgeClassifier()\n",
    "classifier = SVC()\n",
    "classifier.fit(train_x, train_y)\n",
    "\n",
    "print(classification_report(test_y, classifier.predict(test_x)))"
   ]
  },
  {
   "cell_type": "code",
   "execution_count": 1,
   "metadata": {},
   "outputs": [
    {
     "name": "stdout",
     "output_type": "stream",
     "text": [
      "C:\\Users\\54946\n"
     ]
    }
   ],
   "source": [
    "import os\n",
    "print(os.path.abspath('.'))"
   ]
  },
  {
   "cell_type": "code",
   "execution_count": 2,
   "metadata": {},
   "outputs": [
    {
     "ename": "TypeError",
     "evalue": "fit() missing 1 required positional argument: 'y'",
     "output_type": "error",
     "traceback": [
      "\u001b[1;31m---------------------------------------------------------------------------\u001b[0m",
      "\u001b[1;31mTypeError\u001b[0m                                 Traceback (most recent call last)",
      "\u001b[1;32m<ipython-input-2-88fc36a6c825>\u001b[0m in \u001b[0;36m<module>\u001b[1;34m\u001b[0m\n\u001b[0;32m     44\u001b[0m \u001b[1;31m# classifier = RidgeClassifier()\u001b[0m\u001b[1;33m\u001b[0m\u001b[1;33m\u001b[0m\u001b[1;33m\u001b[0m\u001b[0m\n\u001b[0;32m     45\u001b[0m \u001b[0mclassifier\u001b[0m \u001b[1;33m=\u001b[0m \u001b[0mLinearSVC\u001b[0m\u001b[1;33m\u001b[0m\u001b[1;33m\u001b[0m\u001b[0m\n\u001b[1;32m---> 46\u001b[1;33m \u001b[0mclassifier\u001b[0m\u001b[1;33m.\u001b[0m\u001b[0mfit\u001b[0m\u001b[1;33m(\u001b[0m\u001b[0mtrain_x\u001b[0m\u001b[1;33m,\u001b[0m \u001b[0mtrain_y\u001b[0m\u001b[1;33m)\u001b[0m\u001b[1;33m\u001b[0m\u001b[1;33m\u001b[0m\u001b[0m\n\u001b[0m\u001b[0;32m     47\u001b[0m \u001b[1;33m\u001b[0m\u001b[0m\n\u001b[0;32m     48\u001b[0m \u001b[0mprint\u001b[0m\u001b[1;33m(\u001b[0m\u001b[0mclassification_report\u001b[0m\u001b[1;33m(\u001b[0m\u001b[0mtest_y\u001b[0m\u001b[1;33m,\u001b[0m \u001b[0mclassifier\u001b[0m\u001b[1;33m.\u001b[0m\u001b[0mpredict\u001b[0m\u001b[1;33m(\u001b[0m\u001b[0mtest_x\u001b[0m\u001b[1;33m)\u001b[0m\u001b[1;33m)\u001b[0m\u001b[1;33m)\u001b[0m\u001b[1;33m\u001b[0m\u001b[1;33m\u001b[0m\u001b[0m\n",
      "\u001b[1;31mTypeError\u001b[0m: fit() missing 1 required positional argument: 'y'"
     ]
    }
   ],
   "source": []
  },
  {
   "cell_type": "code",
   "execution_count": null,
   "metadata": {},
   "outputs": [],
   "source": []
  }
 ],
 "metadata": {
  "kernelspec": {
   "display_name": "Python 3",
   "language": "python",
   "name": "python3"
  },
  "language_info": {
   "codemirror_mode": {
    "name": "ipython",
    "version": 3
   },
   "file_extension": ".py",
   "mimetype": "text/x-python",
   "name": "python",
   "nbconvert_exporter": "python",
   "pygments_lexer": "ipython3",
   "version": "3.7.3"
  }
 },
 "nbformat": 4,
 "nbformat_minor": 2
}
